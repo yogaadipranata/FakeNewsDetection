{
 "cells": [
  {
   "cell_type": "markdown",
   "id": "5131bc81",
   "metadata": {},
   "source": [
    "# Pendeteksi Berita Palsu Menggunakan Model Artificial Neural Network dengan Pytorch"
   ]
  },
  {
   "cell_type": "markdown",
   "id": "7d1ad78f",
   "metadata": {},
   "source": [
    "## Persiapan"
   ]
  },
  {
   "cell_type": "markdown",
   "id": "a7470bec",
   "metadata": {},
   "source": [
    "### Import Library yang Digunakan\n",
    "Pada proses ini dilakukan import library yang akan digunakan"
   ]
  },
  {
   "cell_type": "code",
   "execution_count": 1,
   "id": "4a54c92a",
   "metadata": {},
   "outputs": [],
   "source": [
    "#Data Manupulasi\n",
    "import numpy as np\n",
    "import pandas as pd\n",
    "\n",
    "#Natural Language Processing\n",
    "import re \n",
    "import nltk \n",
    "from sklearn.feature_extraction.text import CountVectorizer\n",
    "\n",
    "#Pytorch\n",
    "import torch\n",
    "import torch.nn as nn\n",
    "\n",
    "#Visualisasi\n",
    "import matplotlib.pyplot as plt\n",
    "import seaborn as sns\n",
    "\n",
    "#Training, Testing\n",
    "from sklearn.model_selection import train_test_split"
   ]
  },
  {
   "cell_type": "markdown",
   "id": "ff12744d",
   "metadata": {},
   "source": [
    "### Import Dataset yang Digunakan\n",
    "Selanjutnya import dataset yang disediakan. Pada tahap ini menggunakan dua dataset yang berisikan contoh berita asli dan palsu. Setelah diimport, lihat informasi tentang struktur dan tipe data dalam dataset."
   ]
  },
  {
   "cell_type": "code",
   "execution_count": 2,
   "id": "a745a564",
   "metadata": {},
   "outputs": [],
   "source": [
    "#Membaca Dataset\n",
    "\n",
    "asli = pd.read_csv(\"True.csv\")\n",
    "palsu = pd.read_csv(\"Fake.csv\")"
   ]
  },
  {
   "cell_type": "code",
   "execution_count": 3,
   "id": "76632ab5",
   "metadata": {},
   "outputs": [
    {
     "name": "stdout",
     "output_type": "stream",
     "text": [
      "<class 'pandas.core.frame.DataFrame'>\n",
      "RangeIndex: 21417 entries, 0 to 21416\n",
      "Data columns (total 4 columns):\n",
      " #   Column   Non-Null Count  Dtype \n",
      "---  ------   --------------  ----- \n",
      " 0   title    21417 non-null  object\n",
      " 1   text     21417 non-null  object\n",
      " 2   subject  21417 non-null  object\n",
      " 3   date     21417 non-null  object\n",
      "dtypes: object(4)\n",
      "memory usage: 669.4+ KB\n"
     ]
    }
   ],
   "source": [
    "#Mendapatkan informasi tentang struktur dan tipe data dalam Dataset 'asli'\n",
    "\n",
    "asli.info()"
   ]
  },
  {
   "cell_type": "code",
   "execution_count": 4,
   "id": "f3f725e4",
   "metadata": {},
   "outputs": [
    {
     "name": "stdout",
     "output_type": "stream",
     "text": [
      "<class 'pandas.core.frame.DataFrame'>\n",
      "RangeIndex: 23481 entries, 0 to 23480\n",
      "Data columns (total 4 columns):\n",
      " #   Column   Non-Null Count  Dtype \n",
      "---  ------   --------------  ----- \n",
      " 0   title    23481 non-null  object\n",
      " 1   text     23481 non-null  object\n",
      " 2   subject  23481 non-null  object\n",
      " 3   date     23481 non-null  object\n",
      "dtypes: object(4)\n",
      "memory usage: 733.9+ KB\n"
     ]
    }
   ],
   "source": [
    "##Mendapatkan informasi tentang struktur dan tipe data dalam Dataset 'palsu'\n",
    "\n",
    "palsu.info()"
   ]
  },
  {
   "cell_type": "markdown",
   "id": "9c058dec",
   "metadata": {},
   "source": [
    "### Penambahan Label Untuk Masing-Masing Dataset\n",
    "Jika sudah berhasil diimport, langkah selanjutnya adalah memberikan label pada setiap dataset. Label digunakan untuk membedakan dan memberi nilai antara berita palsu dengan berita asli. Berita palsu diberi nilai 0 dan berita asli diberi nilai 1. Nilai pada label menggunakan type integer."
   ]
  },
  {
   "cell_type": "code",
   "execution_count": 5,
   "id": "7f608a48",
   "metadata": {},
   "outputs": [],
   "source": [
    "#menambahkan kolom \"label\" pada Data asli dan palsi dengan nilai yang menandakan apakah berita tersebut dikategorikan sebagai benar atau palsu.\n",
    "\n",
    "asli[\"label\"] = np.ones(len(asli),dtype=int)\n",
    "palsu[\"label\"] = np.zeros(len(palsu),dtype=int)"
   ]
  },
  {
   "cell_type": "code",
   "execution_count": 6,
   "id": "a51b6bfa",
   "metadata": {},
   "outputs": [
    {
     "data": {
      "text/html": [
       "<div>\n",
       "<style scoped>\n",
       "    .dataframe tbody tr th:only-of-type {\n",
       "        vertical-align: middle;\n",
       "    }\n",
       "\n",
       "    .dataframe tbody tr th {\n",
       "        vertical-align: top;\n",
       "    }\n",
       "\n",
       "    .dataframe thead th {\n",
       "        text-align: right;\n",
       "    }\n",
       "</style>\n",
       "<table border=\"1\" class=\"dataframe\">\n",
       "  <thead>\n",
       "    <tr style=\"text-align: right;\">\n",
       "      <th></th>\n",
       "      <th>title</th>\n",
       "      <th>text</th>\n",
       "      <th>subject</th>\n",
       "      <th>date</th>\n",
       "      <th>label</th>\n",
       "    </tr>\n",
       "  </thead>\n",
       "  <tbody>\n",
       "    <tr>\n",
       "      <th>0</th>\n",
       "      <td>As U.S. budget fight looms, Republicans flip t...</td>\n",
       "      <td>WASHINGTON (Reuters) - The head of a conservat...</td>\n",
       "      <td>politicsNews</td>\n",
       "      <td>December 31, 2017</td>\n",
       "      <td>1</td>\n",
       "    </tr>\n",
       "    <tr>\n",
       "      <th>1</th>\n",
       "      <td>U.S. military to accept transgender recruits o...</td>\n",
       "      <td>WASHINGTON (Reuters) - Transgender people will...</td>\n",
       "      <td>politicsNews</td>\n",
       "      <td>December 29, 2017</td>\n",
       "      <td>1</td>\n",
       "    </tr>\n",
       "    <tr>\n",
       "      <th>2</th>\n",
       "      <td>Senior U.S. Republican senator: 'Let Mr. Muell...</td>\n",
       "      <td>WASHINGTON (Reuters) - The special counsel inv...</td>\n",
       "      <td>politicsNews</td>\n",
       "      <td>December 31, 2017</td>\n",
       "      <td>1</td>\n",
       "    </tr>\n",
       "    <tr>\n",
       "      <th>3</th>\n",
       "      <td>FBI Russia probe helped by Australian diplomat...</td>\n",
       "      <td>WASHINGTON (Reuters) - Trump campaign adviser ...</td>\n",
       "      <td>politicsNews</td>\n",
       "      <td>December 30, 2017</td>\n",
       "      <td>1</td>\n",
       "    </tr>\n",
       "    <tr>\n",
       "      <th>4</th>\n",
       "      <td>Trump wants Postal Service to charge 'much mor...</td>\n",
       "      <td>SEATTLE/WASHINGTON (Reuters) - President Donal...</td>\n",
       "      <td>politicsNews</td>\n",
       "      <td>December 29, 2017</td>\n",
       "      <td>1</td>\n",
       "    </tr>\n",
       "  </tbody>\n",
       "</table>\n",
       "</div>"
      ],
      "text/plain": [
       "                                               title  \\\n",
       "0  As U.S. budget fight looms, Republicans flip t...   \n",
       "1  U.S. military to accept transgender recruits o...   \n",
       "2  Senior U.S. Republican senator: 'Let Mr. Muell...   \n",
       "3  FBI Russia probe helped by Australian diplomat...   \n",
       "4  Trump wants Postal Service to charge 'much mor...   \n",
       "\n",
       "                                                text       subject  \\\n",
       "0  WASHINGTON (Reuters) - The head of a conservat...  politicsNews   \n",
       "1  WASHINGTON (Reuters) - Transgender people will...  politicsNews   \n",
       "2  WASHINGTON (Reuters) - The special counsel inv...  politicsNews   \n",
       "3  WASHINGTON (Reuters) - Trump campaign adviser ...  politicsNews   \n",
       "4  SEATTLE/WASHINGTON (Reuters) - President Donal...  politicsNews   \n",
       "\n",
       "                 date  label  \n",
       "0  December 31, 2017       1  \n",
       "1  December 29, 2017       1  \n",
       "2  December 31, 2017       1  \n",
       "3  December 30, 2017       1  \n",
       "4  December 29, 2017       1  "
      ]
     },
     "execution_count": 6,
     "metadata": {},
     "output_type": "execute_result"
    }
   ],
   "source": [
    "#menampilkan beberapa baris pertama dari Data 'asli'\n",
    "\n",
    "asli.head()"
   ]
  },
  {
   "cell_type": "code",
   "execution_count": 7,
   "id": "357d2746",
   "metadata": {},
   "outputs": [
    {
     "data": {
      "text/html": [
       "<div>\n",
       "<style scoped>\n",
       "    .dataframe tbody tr th:only-of-type {\n",
       "        vertical-align: middle;\n",
       "    }\n",
       "\n",
       "    .dataframe tbody tr th {\n",
       "        vertical-align: top;\n",
       "    }\n",
       "\n",
       "    .dataframe thead th {\n",
       "        text-align: right;\n",
       "    }\n",
       "</style>\n",
       "<table border=\"1\" class=\"dataframe\">\n",
       "  <thead>\n",
       "    <tr style=\"text-align: right;\">\n",
       "      <th></th>\n",
       "      <th>title</th>\n",
       "      <th>text</th>\n",
       "      <th>subject</th>\n",
       "      <th>date</th>\n",
       "      <th>label</th>\n",
       "    </tr>\n",
       "  </thead>\n",
       "  <tbody>\n",
       "    <tr>\n",
       "      <th>0</th>\n",
       "      <td>Donald Trump Sends Out Embarrassing New Year’...</td>\n",
       "      <td>Donald Trump just couldn t wish all Americans ...</td>\n",
       "      <td>News</td>\n",
       "      <td>December 31, 2017</td>\n",
       "      <td>0</td>\n",
       "    </tr>\n",
       "    <tr>\n",
       "      <th>1</th>\n",
       "      <td>Drunk Bragging Trump Staffer Started Russian ...</td>\n",
       "      <td>House Intelligence Committee Chairman Devin Nu...</td>\n",
       "      <td>News</td>\n",
       "      <td>December 31, 2017</td>\n",
       "      <td>0</td>\n",
       "    </tr>\n",
       "    <tr>\n",
       "      <th>2</th>\n",
       "      <td>Sheriff David Clarke Becomes An Internet Joke...</td>\n",
       "      <td>On Friday, it was revealed that former Milwauk...</td>\n",
       "      <td>News</td>\n",
       "      <td>December 30, 2017</td>\n",
       "      <td>0</td>\n",
       "    </tr>\n",
       "    <tr>\n",
       "      <th>3</th>\n",
       "      <td>Trump Is So Obsessed He Even Has Obama’s Name...</td>\n",
       "      <td>On Christmas day, Donald Trump announced that ...</td>\n",
       "      <td>News</td>\n",
       "      <td>December 29, 2017</td>\n",
       "      <td>0</td>\n",
       "    </tr>\n",
       "    <tr>\n",
       "      <th>4</th>\n",
       "      <td>Pope Francis Just Called Out Donald Trump Dur...</td>\n",
       "      <td>Pope Francis used his annual Christmas Day mes...</td>\n",
       "      <td>News</td>\n",
       "      <td>December 25, 2017</td>\n",
       "      <td>0</td>\n",
       "    </tr>\n",
       "  </tbody>\n",
       "</table>\n",
       "</div>"
      ],
      "text/plain": [
       "                                               title  \\\n",
       "0   Donald Trump Sends Out Embarrassing New Year’...   \n",
       "1   Drunk Bragging Trump Staffer Started Russian ...   \n",
       "2   Sheriff David Clarke Becomes An Internet Joke...   \n",
       "3   Trump Is So Obsessed He Even Has Obama’s Name...   \n",
       "4   Pope Francis Just Called Out Donald Trump Dur...   \n",
       "\n",
       "                                                text subject  \\\n",
       "0  Donald Trump just couldn t wish all Americans ...    News   \n",
       "1  House Intelligence Committee Chairman Devin Nu...    News   \n",
       "2  On Friday, it was revealed that former Milwauk...    News   \n",
       "3  On Christmas day, Donald Trump announced that ...    News   \n",
       "4  Pope Francis used his annual Christmas Day mes...    News   \n",
       "\n",
       "                date  label  \n",
       "0  December 31, 2017      0  \n",
       "1  December 31, 2017      0  \n",
       "2  December 30, 2017      0  \n",
       "3  December 29, 2017      0  \n",
       "4  December 25, 2017      0  "
      ]
     },
     "execution_count": 7,
     "metadata": {},
     "output_type": "execute_result"
    }
   ],
   "source": [
    "#menampilkan beberapa baris pertama dari Data 'fake'\n",
    "\n",
    "palsu.head()"
   ]
  },
  {
   "cell_type": "markdown",
   "id": "c97d92df",
   "metadata": {},
   "source": [
    "### Penggabungan Dataset\n",
    "Setelah diberi label, kedua dataset tersebut digabungkan menjadi satu dataset degan menggunakan fungsi pd.concat() dan hasilnya disimpan dalam variabel data."
   ]
  },
  {
   "cell_type": "code",
   "execution_count": 8,
   "id": "d6c71bf3",
   "metadata": {},
   "outputs": [
    {
     "name": "stdout",
     "output_type": "stream",
     "text": [
      "<class 'pandas.core.frame.DataFrame'>\n",
      "Int64Index: 44898 entries, 0 to 23480\n",
      "Data columns (total 5 columns):\n",
      " #   Column   Non-Null Count  Dtype \n",
      "---  ------   --------------  ----- \n",
      " 0   title    44898 non-null  object\n",
      " 1   text     44898 non-null  object\n",
      " 2   subject  44898 non-null  object\n",
      " 3   date     44898 non-null  object\n",
      " 4   label    44898 non-null  int32 \n",
      "dtypes: int32(1), object(4)\n",
      "memory usage: 1.9+ MB\n",
      "None\n"
     ]
    }
   ],
   "source": [
    "#menggabungkan dua Dataset, 'asli' dan 'palsu', menjadi satu Data tunggal dengan menggunakan fungsi pd.concat().\n",
    "#hasil penggabungan disimpan dalam variabel data.\n",
    "#data.info() untuk mencetak informasi tentang struktur dan tipe data dalam DataFrame 'data'.\n",
    "\n",
    "data = pd.concat((asli,palsu),axis=0)\n",
    "print(data.info())"
   ]
  },
  {
   "cell_type": "markdown",
   "id": "24cfc9ff",
   "metadata": {},
   "source": [
    "### Pengacakan Dataset\n",
    "Setelah dataset digabungkan, dilakukan pengacakan baris dalam dataset agar tidak terjadi bias saat melakukan training."
   ]
  },
  {
   "cell_type": "code",
   "execution_count": 9,
   "id": "35345ac6",
   "metadata": {},
   "outputs": [
    {
     "data": {
      "text/html": [
       "<div>\n",
       "<style scoped>\n",
       "    .dataframe tbody tr th:only-of-type {\n",
       "        vertical-align: middle;\n",
       "    }\n",
       "\n",
       "    .dataframe tbody tr th {\n",
       "        vertical-align: top;\n",
       "    }\n",
       "\n",
       "    .dataframe thead th {\n",
       "        text-align: right;\n",
       "    }\n",
       "</style>\n",
       "<table border=\"1\" class=\"dataframe\">\n",
       "  <thead>\n",
       "    <tr style=\"text-align: right;\">\n",
       "      <th></th>\n",
       "      <th>title</th>\n",
       "      <th>text</th>\n",
       "      <th>subject</th>\n",
       "      <th>date</th>\n",
       "      <th>label</th>\n",
       "    </tr>\n",
       "  </thead>\n",
       "  <tbody>\n",
       "    <tr>\n",
       "      <th>3096</th>\n",
       "      <td>Trump Just Got RAZED After His Painfully Stup...</td>\n",
       "      <td>Here s a news flash for Donald Trump: Mexico w...</td>\n",
       "      <td>News</td>\n",
       "      <td>January 9, 2017</td>\n",
       "      <td>0</td>\n",
       "    </tr>\n",
       "    <tr>\n",
       "      <th>5195</th>\n",
       "      <td>Pompe drug lauded by Trump costs $300,000 a year</td>\n",
       "      <td>(Reuters) - President Donald Trump told Congre...</td>\n",
       "      <td>politicsNews</td>\n",
       "      <td>March 1, 2017</td>\n",
       "      <td>1</td>\n",
       "    </tr>\n",
       "    <tr>\n",
       "      <th>8044</th>\n",
       "      <td>Trump Supporters Attack Latina Protester, Get...</td>\n",
       "      <td>Another person was attacked at a Trump rally i...</td>\n",
       "      <td>News</td>\n",
       "      <td>February 17, 2016</td>\n",
       "      <td>0</td>\n",
       "    </tr>\n",
       "    <tr>\n",
       "      <th>651</th>\n",
       "      <td>House speaker: May need a temporary bill to fu...</td>\n",
       "      <td>WASHINGTON (Reuters) - U.S. lawmakers may have...</td>\n",
       "      <td>politicsNews</td>\n",
       "      <td>November 14, 2017</td>\n",
       "      <td>1</td>\n",
       "    </tr>\n",
       "    <tr>\n",
       "      <th>6167</th>\n",
       "      <td>Gohmert: Homosexuality Is ‘Perverse’ Because ...</td>\n",
       "      <td>Rep. Louie Gohmert is perhaps America s most t...</td>\n",
       "      <td>News</td>\n",
       "      <td>May 26, 2016</td>\n",
       "      <td>0</td>\n",
       "    </tr>\n",
       "    <tr>\n",
       "      <th>23367</th>\n",
       "      <td>BOILER ROOM – EP #54 – America… The End is Nigh</td>\n",
       "      <td>Tune in to the Alternate Current Radio Network...</td>\n",
       "      <td>Middle-east</td>\n",
       "      <td>April 28, 2016</td>\n",
       "      <td>0</td>\n",
       "    </tr>\n",
       "    <tr>\n",
       "      <th>1129</th>\n",
       "      <td>Bush takes veiled swipe at Trump, defends immi...</td>\n",
       "      <td>(Reuters) - Former President George W. Bush de...</td>\n",
       "      <td>politicsNews</td>\n",
       "      <td>October 19, 2017</td>\n",
       "      <td>1</td>\n",
       "    </tr>\n",
       "    <tr>\n",
       "      <th>111</th>\n",
       "      <td>GOP Senate Candidate Turns Out To Be A Disgus...</td>\n",
       "      <td>The Republican favorite in Alabama s Senate ra...</td>\n",
       "      <td>News</td>\n",
       "      <td>November 9, 2017</td>\n",
       "      <td>0</td>\n",
       "    </tr>\n",
       "    <tr>\n",
       "      <th>10616</th>\n",
       "      <td>Republicans Rubio, Cruz release taxes, piling ...</td>\n",
       "      <td>WASHINGTON (Reuters) - Republican presidential...</td>\n",
       "      <td>politicsNews</td>\n",
       "      <td>February 27, 2016</td>\n",
       "      <td>1</td>\n",
       "    </tr>\n",
       "    <tr>\n",
       "      <th>12970</th>\n",
       "      <td>Kazakh leader tells cabinet: Make state firms ...</td>\n",
       "      <td>ASTANA (Reuters) - Kazakh President Nursultan ...</td>\n",
       "      <td>worldnews</td>\n",
       "      <td>December 6, 2017</td>\n",
       "      <td>1</td>\n",
       "    </tr>\n",
       "  </tbody>\n",
       "</table>\n",
       "</div>"
      ],
      "text/plain": [
       "                                                   title  \\\n",
       "3096    Trump Just Got RAZED After His Painfully Stup...   \n",
       "5195    Pompe drug lauded by Trump costs $300,000 a year   \n",
       "8044    Trump Supporters Attack Latina Protester, Get...   \n",
       "651    House speaker: May need a temporary bill to fu...   \n",
       "6167    Gohmert: Homosexuality Is ‘Perverse’ Because ...   \n",
       "23367    BOILER ROOM – EP #54 – America… The End is Nigh   \n",
       "1129   Bush takes veiled swipe at Trump, defends immi...   \n",
       "111     GOP Senate Candidate Turns Out To Be A Disgus...   \n",
       "10616  Republicans Rubio, Cruz release taxes, piling ...   \n",
       "12970  Kazakh leader tells cabinet: Make state firms ...   \n",
       "\n",
       "                                                    text       subject  \\\n",
       "3096   Here s a news flash for Donald Trump: Mexico w...          News   \n",
       "5195   (Reuters) - President Donald Trump told Congre...  politicsNews   \n",
       "8044   Another person was attacked at a Trump rally i...          News   \n",
       "651    WASHINGTON (Reuters) - U.S. lawmakers may have...  politicsNews   \n",
       "6167   Rep. Louie Gohmert is perhaps America s most t...          News   \n",
       "23367  Tune in to the Alternate Current Radio Network...   Middle-east   \n",
       "1129   (Reuters) - Former President George W. Bush de...  politicsNews   \n",
       "111    The Republican favorite in Alabama s Senate ra...          News   \n",
       "10616  WASHINGTON (Reuters) - Republican presidential...  politicsNews   \n",
       "12970  ASTANA (Reuters) - Kazakh President Nursultan ...     worldnews   \n",
       "\n",
       "                     date  label  \n",
       "3096      January 9, 2017      0  \n",
       "5195       March 1, 2017       1  \n",
       "8044    February 17, 2016      0  \n",
       "651    November 14, 2017       1  \n",
       "6167         May 26, 2016      0  \n",
       "23367      April 28, 2016      0  \n",
       "1129    October 19, 2017       1  \n",
       "111      November 9, 2017      0  \n",
       "10616  February 27, 2016       1  \n",
       "12970   December 6, 2017       1  "
      ]
     },
     "execution_count": 9,
     "metadata": {},
     "output_type": "execute_result"
    }
   ],
   "source": [
    "#data = data.sample(frac=1): Baris ini digunakan untuk mengacak baris-baris dalam DataFrame data.\n",
    "#fungsi sample() digunakan untuk mengambil sampel acak dari DataFrame. \n",
    "#frac=1 mengambil seluruh DataFrame dengan urutan acak (frac=1 berarti mengambil 100% dari data). Dengan mengacak baris-baris dan mengubah urutan data dalam DataFrame secara acak.\n",
    "\n",
    "data = data.sample(frac=1)\n",
    "data.head(10)"
   ]
  },
  {
   "cell_type": "markdown",
   "id": "1dbf7af1",
   "metadata": {},
   "source": [
    "## Data Overview"
   ]
  },
  {
   "cell_type": "markdown",
   "id": "ecb3a99d",
   "metadata": {},
   "source": [
    "### Keseimbangan Data\n",
    "Pada bagian ini data diperiksa apakah jumlah data asli dan palsu seimbang."
   ]
  },
  {
   "cell_type": "code",
   "execution_count": 10,
   "id": "b5ea07c6",
   "metadata": {},
   "outputs": [
    {
     "name": "stdout",
     "output_type": "stream",
     "text": [
      "label\n",
      "0    23481\n",
      "1    21417\n",
      "Name: label, dtype: int64\n"
     ]
    },
    {
     "data": {
      "image/png": "[encoded data removed]",
      "text/plain": [
       "<Figure size 640x480 with 1 Axes>"
      ]
     },
     "metadata": {},
     "output_type": "display_data"
    }
   ],
   "source": [
    "#pada bgaian ini melihat apakah data seimbang\n",
    "\n",
    "print(data.groupby(['label'])['label'].count())\n",
    "sns.countplot(x=\"label\", data=data)\n",
    "plt.show()"
   ]
  },
  {
   "cell_type": "markdown",
   "id": "8b633688",
   "metadata": {},
   "source": [
    "Dari hasil di atas terlihat bahwa data berita palsu sedikit lebih banyak dibanding dengan data berita asli, tetapi tidak menjadi masalah. Sehingga bisa dikatakan bahwa jumlah data seimbang"
   ]
  },
  {
   "cell_type": "markdown",
   "id": "fbdf5cf7",
   "metadata": {},
   "source": [
    "### Melihat Berapa Banyak Kelas Subject\n",
    "Selanjutnya, memeriksa berapa banyak kelas subject yang ada pada data dan menampilkannya dalam bentuk bar."
   ]
  },
  {
   "cell_type": "code",
   "execution_count": 11,
   "id": "6047fc42",
   "metadata": {},
   "outputs": [
    {
     "name": "stdout",
     "output_type": "stream",
     "text": [
      "politicsNews       11272\n",
      "worldnews          10145\n",
      "News                9050\n",
      "politics            6841\n",
      "left-news           4459\n",
      "Government News     1570\n",
      "US_News              783\n",
      "Middle-east          778\n",
      "Name: subject, dtype: int64\n"
     ]
    },
    {
     "data": {
      "image/png": "[encoded data removed]",
      "text/plain": [
       "<Figure size 640x480 with 1 Axes>"
      ]
     },
     "metadata": {},
     "output_type": "display_data"
    }
   ],
   "source": [
    "#melihat berapa banyak kelas yang terdapat dalam data\n",
    "\n",
    "print(data[\"subject\"].value_counts())\n",
    "data.groupby(['subject'])['text'].count().plot(kind=\"bar\")\n",
    "plt.show()"
   ]
  },
  {
   "cell_type": "markdown",
   "id": "dc03e10a",
   "metadata": {},
   "source": [
    "Berdasarkan hasil di atas, dapat dilihat bahwa pada data terdapat 8 jenis subject, di mana subject terbanyak pada data adalah politicsNews"
   ]
  },
  {
   "cell_type": "markdown",
   "id": "38aa6534",
   "metadata": {},
   "source": [
    "## Data Preprocessing"
   ]
  },
  {
   "cell_type": "markdown",
   "id": "8cebca9d",
   "metadata": {},
   "source": [
    "### Ubah Subject Menjadi Variabel Dummy\n",
    "Ubah kolom subject menjadi variabel dummy agar dapat digunakan dalam pemodelan atau analisis lebih lanjut."
   ]
  },
  {
   "cell_type": "code",
   "execution_count": 12,
   "id": "9dac0fc6",
   "metadata": {
    "scrolled": true
   },
   "outputs": [
    {
     "data": {
      "text/html": [
       "<div>\n",
       "<style scoped>\n",
       "    .dataframe tbody tr th:only-of-type {\n",
       "        vertical-align: middle;\n",
       "    }\n",
       "\n",
       "    .dataframe tbody tr th {\n",
       "        vertical-align: top;\n",
       "    }\n",
       "\n",
       "    .dataframe thead th {\n",
       "        text-align: right;\n",
       "    }\n",
       "</style>\n",
       "<table border=\"1\" class=\"dataframe\">\n",
       "  <thead>\n",
       "    <tr style=\"text-align: right;\">\n",
       "      <th></th>\n",
       "      <th>title</th>\n",
       "      <th>text</th>\n",
       "      <th>date</th>\n",
       "      <th>label</th>\n",
       "      <th>subject_Government News</th>\n",
       "      <th>subject_Middle-east</th>\n",
       "      <th>subject_News</th>\n",
       "      <th>subject_US_News</th>\n",
       "      <th>subject_left-news</th>\n",
       "      <th>subject_politics</th>\n",
       "      <th>subject_politicsNews</th>\n",
       "      <th>subject_worldnews</th>\n",
       "    </tr>\n",
       "  </thead>\n",
       "  <tbody>\n",
       "    <tr>\n",
       "      <th>3096</th>\n",
       "      <td>Trump Just Got RAZED After His Painfully Stup...</td>\n",
       "      <td>Here s a news flash for Donald Trump: Mexico w...</td>\n",
       "      <td>January 9, 2017</td>\n",
       "      <td>0</td>\n",
       "      <td>0</td>\n",
       "      <td>0</td>\n",
       "      <td>1</td>\n",
       "      <td>0</td>\n",
       "      <td>0</td>\n",
       "      <td>0</td>\n",
       "      <td>0</td>\n",
       "      <td>0</td>\n",
       "    </tr>\n",
       "    <tr>\n",
       "      <th>5195</th>\n",
       "      <td>Pompe drug lauded by Trump costs $300,000 a year</td>\n",
       "      <td>(Reuters) - President Donald Trump told Congre...</td>\n",
       "      <td>March 1, 2017</td>\n",
       "      <td>1</td>\n",
       "      <td>0</td>\n",
       "      <td>0</td>\n",
       "      <td>0</td>\n",
       "      <td>0</td>\n",
       "      <td>0</td>\n",
       "      <td>0</td>\n",
       "      <td>1</td>\n",
       "      <td>0</td>\n",
       "    </tr>\n",
       "    <tr>\n",
       "      <th>8044</th>\n",
       "      <td>Trump Supporters Attack Latina Protester, Get...</td>\n",
       "      <td>Another person was attacked at a Trump rally i...</td>\n",
       "      <td>February 17, 2016</td>\n",
       "      <td>0</td>\n",
       "      <td>0</td>\n",
       "      <td>0</td>\n",
       "      <td>1</td>\n",
       "      <td>0</td>\n",
       "      <td>0</td>\n",
       "      <td>0</td>\n",
       "      <td>0</td>\n",
       "      <td>0</td>\n",
       "    </tr>\n",
       "    <tr>\n",
       "      <th>651</th>\n",
       "      <td>House speaker: May need a temporary bill to fu...</td>\n",
       "      <td>WASHINGTON (Reuters) - U.S. lawmakers may have...</td>\n",
       "      <td>November 14, 2017</td>\n",
       "      <td>1</td>\n",
       "      <td>0</td>\n",
       "      <td>0</td>\n",
       "      <td>0</td>\n",
       "      <td>0</td>\n",
       "      <td>0</td>\n",
       "      <td>0</td>\n",
       "      <td>1</td>\n",
       "      <td>0</td>\n",
       "    </tr>\n",
       "    <tr>\n",
       "      <th>6167</th>\n",
       "      <td>Gohmert: Homosexuality Is ‘Perverse’ Because ...</td>\n",
       "      <td>Rep. Louie Gohmert is perhaps America s most t...</td>\n",
       "      <td>May 26, 2016</td>\n",
       "      <td>0</td>\n",
       "      <td>0</td>\n",
       "      <td>0</td>\n",
       "      <td>1</td>\n",
       "      <td>0</td>\n",
       "      <td>0</td>\n",
       "      <td>0</td>\n",
       "      <td>0</td>\n",
       "      <td>0</td>\n",
       "    </tr>\n",
       "  </tbody>\n",
       "</table>\n",
       "</div>"
      ],
      "text/plain": [
       "                                                  title  \\\n",
       "3096   Trump Just Got RAZED After His Painfully Stup...   \n",
       "5195   Pompe drug lauded by Trump costs $300,000 a year   \n",
       "8044   Trump Supporters Attack Latina Protester, Get...   \n",
       "651   House speaker: May need a temporary bill to fu...   \n",
       "6167   Gohmert: Homosexuality Is ‘Perverse’ Because ...   \n",
       "\n",
       "                                                   text                date  \\\n",
       "3096  Here s a news flash for Donald Trump: Mexico w...     January 9, 2017   \n",
       "5195  (Reuters) - President Donald Trump told Congre...      March 1, 2017    \n",
       "8044  Another person was attacked at a Trump rally i...   February 17, 2016   \n",
       "651   WASHINGTON (Reuters) - U.S. lawmakers may have...  November 14, 2017    \n",
       "6167  Rep. Louie Gohmert is perhaps America s most t...        May 26, 2016   \n",
       "\n",
       "      label  subject_Government News  subject_Middle-east  subject_News  \\\n",
       "3096      0                        0                    0             1   \n",
       "5195      1                        0                    0             0   \n",
       "8044      0                        0                    0             1   \n",
       "651       1                        0                    0             0   \n",
       "6167      0                        0                    0             1   \n",
       "\n",
       "      subject_US_News  subject_left-news  subject_politics  \\\n",
       "3096                0                  0                 0   \n",
       "5195                0                  0                 0   \n",
       "8044                0                  0                 0   \n",
       "651                 0                  0                 0   \n",
       "6167                0                  0                 0   \n",
       "\n",
       "      subject_politicsNews  subject_worldnews  \n",
       "3096                     0                  0  \n",
       "5195                     1                  0  \n",
       "8044                     0                  0  \n",
       "651                      1                  0  \n",
       "6167                     0                  0  "
      ]
     },
     "execution_count": 12,
     "metadata": {},
     "output_type": "execute_result"
    }
   ],
   "source": [
    "#data = pd.get_dummies(data, columns=[\"subject\"]): Baris ini digunakan untuk mengubah fitur \"subject\" dalam DataFrame data menjadi variabel dummy\n",
    "#get_dummies() digunakan untuk menghasilkan setiap nilai dalam fitur \"subject\" akan diubah menjadi kolom terpisah dalam DataFrame, dengan nilai biner (0 atau 1) yang menunjukkan apakah nilai tersebut ada dalam baris data tertentu atau tidak.\n",
    "\n",
    "data = pd.get_dummies(data, columns=[\"subject\"])\n",
    "data.head()"
   ]
  },
  {
   "cell_type": "markdown",
   "id": "903bdeca",
   "metadata": {},
   "source": [
    "### Hapus Kolom Date\n",
    "Selanjutnya hapus kolom date karena kolom tersebut tidak diperlukan dalam pemrosesan selanjutnya dan tidak memberikan informasi yang relevan."
   ]
  },
  {
   "cell_type": "code",
   "execution_count": 13,
   "id": "7c8c46a9",
   "metadata": {
    "scrolled": true
   },
   "outputs": [
    {
     "name": "stdout",
     "output_type": "stream",
     "text": [
      "<class 'pandas.core.frame.DataFrame'>\n",
      "Int64Index: 44898 entries, 3096 to 1592\n",
      "Data columns (total 11 columns):\n",
      " #   Column                   Non-Null Count  Dtype \n",
      "---  ------                   --------------  ----- \n",
      " 0   title                    44898 non-null  object\n",
      " 1   text                     44898 non-null  object\n",
      " 2   label                    44898 non-null  int32 \n",
      " 3   subject_Government News  44898 non-null  uint8 \n",
      " 4   subject_Middle-east      44898 non-null  uint8 \n",
      " 5   subject_News             44898 non-null  uint8 \n",
      " 6   subject_US_News          44898 non-null  uint8 \n",
      " 7   subject_left-news        44898 non-null  uint8 \n",
      " 8   subject_politics         44898 non-null  uint8 \n",
      " 9   subject_politicsNews     44898 non-null  uint8 \n",
      " 10  subject_worldnews        44898 non-null  uint8 \n",
      "dtypes: int32(1), object(2), uint8(8)\n",
      "memory usage: 1.5+ MB\n"
     ]
    }
   ],
   "source": [
    "#data = data.drop(\"date\", axis=1): Baris ini digunakan untuk menghapus kolom \"date\" dari DataFrame 'data' dengan menggunakan fungsi drop()\n",
    "#axis=1 menunjukkan menghapus kolom (axis 1) bukan baris\n",
    "#data = data.drop(\"date\", axis=1) adalah untuk menghapus kolom \"date\" dari DataFrame 'data', karena kolom tersebut tidak diperlukan dalam analisis atau pemrosesan selanjutnya.\n",
    "\n",
    "data = data.drop(\"date\",axis=1)\n",
    "data.info()"
   ]
  },
  {
   "cell_type": "markdown",
   "id": "e3f0b7b7",
   "metadata": {},
   "source": [
    "### Natural Language Processing\n",
    "Pemrosesan bahasa alami. Pada langkah ini akan memproses fitur teks dan label."
   ]
  },
  {
   "cell_type": "markdown",
   "id": "f8e389c3",
   "metadata": {},
   "source": [
    "Import nltk dan download modul punkt yang berguna untuk tokenisasi data."
   ]
  },
  {
   "cell_type": "code",
   "execution_count": 14,
   "id": "ea77f20b",
   "metadata": {},
   "outputs": [
    {
     "name": "stdout",
     "output_type": "stream",
     "text": [
      "Unduhan Selesai\n"
     ]
    },
    {
     "name": "stderr",
     "output_type": "stream",
     "text": [
      "[nltk_data] Downloading package punkt to\n",
      "[nltk_data]     C:\\Users\\HP\\AppData\\Roaming\\nltk_data...\n",
      "[nltk_data]   Package punkt is already up-to-date!\n"
     ]
    }
   ],
   "source": [
    "#import nltk digunakan untuk mengimpor pustaka Natural Language Toolkit (NLTK) ke dalam Python\n",
    "#nltk.download('punkt') digunakan untuk mengunduh data yang diperlukan oleh NLTK untuk tokenisasi kata. Tokenisasi kata adalah proses memecah teks menjadi unit-unit kata yang lebih kecil atau token.\n",
    "import nltk\n",
    "nltk.download('punkt')\n",
    "print(\"Unduhan Selesai\")"
   ]
  },
  {
   "cell_type": "markdown",
   "id": "01a03bf2",
   "metadata": {},
   "source": [
    "Import nltk dan download modul wordnet yang berguna untuk melakukan lemmatisasi kata serta mencari sinonim dan antonim."
   ]
  },
  {
   "cell_type": "code",
   "execution_count": 15,
   "id": "f04339c3",
   "metadata": {},
   "outputs": [
    {
     "name": "stdout",
     "output_type": "stream",
     "text": [
      "Unduhan Selesai\n"
     ]
    },
    {
     "name": "stderr",
     "output_type": "stream",
     "text": [
      "[nltk_data] Downloading package wordnet to\n",
      "[nltk_data]     C:\\Users\\HP\\AppData\\Roaming\\nltk_data...\n",
      "[nltk_data]   Package wordnet is already up-to-date!\n"
     ]
    }
   ],
   "source": [
    "#nltk.download('wordnet') digunakan untuk mengunduh data yang diperlukan oleh NLTK untuk akses ke WordNet. WordNet adalah kamus leksikal bahasa Inggris yang berisi informasi tentang kata-kata, termasuk definisi, sinonim, antonim, dll.\n",
    "import nltk\n",
    "nltk.download('wordnet')\n",
    "print(\"Unduhan Selesai\")"
   ]
  },
  {
   "cell_type": "markdown",
   "id": "d032c0d8",
   "metadata": {},
   "source": [
    "Selanjutnya dilakukan pemrosesan teks dalam kolom text dari data mulai dari pembersihan (cleaning), konversi ke huruf kecil (lowercasing), tokenisasi kata (word tokenization), lemmatisasi, dan penggabungan kembali teks yang telah diproses. Kemudian hasilnya disimpan dalam list new_text."
   ]
  },
  {
   "cell_type": "code",
   "execution_count": 16,
   "id": "e46c3928",
   "metadata": {},
   "outputs": [
    {
     "data": {
      "text/plain": [
       "'here s a news flash for donald trump mexico won t be paying for his racist little wall not now not tomorrow not six month from now not ever on friday trump made himself the subject of mockery after inexplicably claiming that mexico will pay for the wall later if american taxpayer foot the bill first and that he would seek repayment through a negotiation of nafta in other word you re paying for the wall and mexico will still not be paying for it later but at least trump can get it built trump s team ha made a number of wacky proposal related to paying for the wall including amending the patriot act to include wire transfer a account that could be frozen and otherwise punishing mexico for their refusal to fund what could possibly be the most fiscally irresponsible undertaking since well any of the bazillion business trump ha bankrupted they have even discussed tying it to the appropriation process which could force democrat to agree to funding to keep the government from shutting down but once again don t worry mexico will totally pay u back dishonest medium say mexico won t be paying for the wall if they pay a little later so the wall can be built more quickly trump tweeted once again attacking the well his follower seem very fond of the phrase lugenpresse or lying press he ended this rant with a phrase that certainly appeal to a crowd that call everything they hate fake news but make the rest of u question his sanity medium is fake dishonest medium say mexico won t be paying for the wall if they pay a little later so the wall can be built more quickly medium is fake donald j trump realdonaldtrump january if you think this sound like a night out at the bar with a drunk friend of a friend of a friend who lost his wallet but assures you his roommate chubbs will reimburse you for his beer later minute after chubbs told him to buy his own f cking beer that wasn t lost on the rest of the world you re never getting your beer money back he know it you know it and chubbs know it because he s not giving the dude a cent naturally twitter wa all over this newsonpictures prairie davesfoley he sure doe live in his own fantasy world like thinking mexico will pay for the wall pic twitter com ruirfijzrq just me coschildren january jordanuhl realdonaldtrump trump discrediting all story critical of him a fake is deeply disturbing the beginning of state run medium unapologeticbitch isabellegirlxo january realdonaldtrump career journalist are fake game show host who claim he can force foreign country to pay for our infrastructure is real jon bershad jonbershad january realdonaldtrump i m sure mexico will pay for it just like i know you re going to drain the swamp and release your tax bob clendenin bobclendenin january realdonaldtrump a quagmire in the sheet a nelson in the tweet pic twitter com pkvkhh giy mike denison mikd january realdonaldtrump how about you pay for your wall mexico will pay you back a little later interest medium will be shocked by your smart andy sternberg andysternberg january realdonaldtrump is straight channeling wimpy i ll have a hamburger for which i will gladly pay you on tuesday http t co trt x wnxa andy sternberg andysternberg january realdonaldtrump mexico is not going to pay for your stupid wall ever they ve said a much parker molloy parkermolloy january realdonaldtrump no mexico said they won t be paying for the wall you know mexico tony posnanski tonyposnanski january realdonaldtrump until you show a check mexico wrote for that wall or a contract to pay later the only fake thing is you saying they ll pay danny sullivan dannysullivan january realdonaldtrump btw i joined twitter to just call you out on your bullsh t it help me sleep at night trumpswall notmypresident pic twitter com t vgzosm jeff fisherjf january realdonaldtrump if you want the wall built so quickly put your hand in your own pocket and pay for it ceindreadh ceindreadh january realdonaldtrump i m mexican and the only wall i d build is one made of taco taco for everyone cabrones gerardo perry gerardoperry january realdonaldtrump this tweet doesn t even make sense but if mexico say they won t pay i trust them that ha nothing to do with the medium pinkiebean pinkiebean january realdonaldtrumpwtf how can anyone not regret voting for you cobblestone creative hankpena january realdonaldtrump the only wall you should be building is the one between you and your conflict of interest tim simon timflight january realdonaldtrump asking people to believe mexico will pay layer is the lamest political trick ever mario ferro mario change january following trump s new mexico will pay for the wall later claim former president of the country vicente fox quesada called the wall another promise trump can t keep trump may ask whoever he want but still neither myself nor mexico are going to pay for his racist monument another promise he can t keep vicente fox quesada vicentefoxque january former mexican ambassador to china jorge guajardo explained that it would be better for mexico to scrap nafta and find a trade agreement with a country that doesn t expect them to pay for such a monumental waste after meeting with trump last year president enrique pe a nieto made it very clear that mexico will not pay for the wall a stance repeated later by then foreign minister claudia ruiz massieu who told a tv station paying for a wall is not part of our vision look trump mexico isn t paying for the wall and your incessant claim to the contrary only make yourself and our nation look stupid let s make one thing crystal clear mexico will not be paying for the wall nor will we build it your damn self featured image via getty image drew angerer screengrab'"
      ]
     },
     "execution_count": 16,
     "metadata": {},
     "output_type": "execute_result"
    }
   ],
   "source": [
    "#kode ini adalah untuk memproses teks dalam kolom \"text\" dari DataFrame data dengan langkah-langkah pembersihan (cleaning), konversi ke huruf kecil (lowercasing), tokenisasi kata (word tokenization), lemmatisasi, dan penggabungan kembali teks yang telah diproses. Hasilnya disimpan dalam list new_text, dan new_text[0] mencetak teks yang telah diproses pertama dari list tersebut.\n",
    "new_text = []\n",
    "pattern = \"[^a-zA-Z]\"\n",
    "lemma = nltk.WordNetLemmatizer()\n",
    "\n",
    "for txt in data.text:\n",
    "    \n",
    "    txt = re.sub(pattern,\" \",txt) # Cleaning\n",
    "    txt = txt.lower() # Lowering\n",
    "    txt = nltk.word_tokenize(txt) # Tokenizing\n",
    "    txt = [lemma.lemmatize(word) for word in txt] # Lemmatizing\n",
    "    txt = \" \".join(txt)\n",
    "    new_text.append(txt)\n",
    "    \n",
    "    \n",
    "new_text[0]"
   ]
  },
  {
   "cell_type": "markdown",
   "id": "e10db703",
   "metadata": {},
   "source": [
    "Selanjutnya dilakukan pemrosesan teks dalam kolom title dari data mulai dari pembersihan (cleaning), konversi ke huruf kecil (lowercasing), tokenisasi kata (word tokenization), lemmatisasi, dan penggabungan kembali teks yang telah diproses. Kemudian hasilnya disimpan dalam list new_title."
   ]
  },
  {
   "cell_type": "code",
   "execution_count": 17,
   "id": "053ab322",
   "metadata": {},
   "outputs": [
    {
     "data": {
      "text/plain": [
       "'trump just got razed after his painfully stupid attack on the fake medium tweet'"
      ]
     },
     "execution_count": 17,
     "metadata": {},
     "output_type": "execute_result"
    }
   ],
   "source": [
    "# kode ini adalah untuk memproses judul (title) dalam kolom \"title\" dari DataFrame data dengan langkah-langkah pembersihan (cleaning), konversi ke huruf kecil (lowercasing), tokenisasi kata (word tokenization), lemmatisasi, dan penggabungan kembali judul yang telah diproses. Hasilnya disimpan dalam list new_title, dan new_title[0] mencetak judul yang telah diproses pertama dari list tersebut.\n",
    "new_title = []\n",
    "for txt in data.title:\n",
    "    \n",
    "    txt = re.sub(pattern,\" \",txt) # Cleaning\n",
    "    txt = txt.lower() # Lowering\n",
    "    txt = nltk.word_tokenize(txt) # Tokenizing\n",
    "    txt = [lemma.lemmatize(word) for word in txt] # Lemmatizing\n",
    "    txt = \" \".join(txt)\n",
    "    new_title.append(txt)\n",
    "new_title[0]"
   ]
  },
  {
   "cell_type": "markdown",
   "id": "f9ae7c16",
   "metadata": {},
   "source": [
    "Kode ini digunakan untuk menghasilkan matriks representasi vektor untuk teks judul (title) dan teks utama (text) berdasarkan frekuensi kemunculan kata-kata yang telah diproses sebelumnya menggunakan CountVectorizer."
   ]
  },
  {
   "cell_type": "code",
   "execution_count": 18,
   "id": "16d03f24",
   "metadata": {},
   "outputs": [
    {
     "name": "stdout",
     "output_type": "stream",
     "text": [
      "Selesai\n"
     ]
    }
   ],
   "source": [
    "#countVectorizer untuk mengubah teks judul (title) dan teks utama (text) menjadi representasi vektor berdasarkan frekuensi kemunculan kata-kata.\n",
    "#kode ini adalah untuk menghasilkan matriks representasi vektor untuk teks judul (title_matrix) dan teks utama (text_matrix) berdasarkan frekuensi kemunculan kata-kata yang telah diproses sebelumnya menggunakan CountVectorizer.\n",
    "vectorizer_title = CountVectorizer(stop_words=\"english\",max_features=1000)\n",
    "vectorizer_text = CountVectorizer(stop_words=\"english\",max_features=4000)\n",
    "\n",
    "title_matrix = vectorizer_title.fit_transform(new_title).toarray() \n",
    "text_matrix = vectorizer_text.fit_transform(new_text).toarray()\n",
    "\n",
    "print(\"Selesai\")"
   ]
  },
  {
   "cell_type": "markdown",
   "id": "a2f1adf9",
   "metadata": {},
   "source": [
    "Hapus kolom \"title\" dan \"text\" dari DataFrame data serta mencetak informasi ringkas tentang DataFrame data setelah penghapusan."
   ]
  },
  {
   "cell_type": "code",
   "execution_count": 20,
   "id": "a8e2bd33",
   "metadata": {},
   "outputs": [
    {
     "name": "stdout",
     "output_type": "stream",
     "text": [
      "<class 'pandas.core.frame.DataFrame'>\n",
      "Int64Index: 44898 entries, 3096 to 1592\n",
      "Data columns (total 9 columns):\n",
      " #   Column                   Non-Null Count  Dtype\n",
      "---  ------                   --------------  -----\n",
      " 0   label                    44898 non-null  int32\n",
      " 1   subject_Government News  44898 non-null  uint8\n",
      " 2   subject_Middle-east      44898 non-null  uint8\n",
      " 3   subject_News             44898 non-null  uint8\n",
      " 4   subject_US_News          44898 non-null  uint8\n",
      " 5   subject_left-news        44898 non-null  uint8\n",
      " 6   subject_politics         44898 non-null  uint8\n",
      " 7   subject_politicsNews     44898 non-null  uint8\n",
      " 8   subject_worldnews        44898 non-null  uint8\n",
      "dtypes: int32(1), uint8(8)\n",
      "memory usage: 876.9 KB\n"
     ]
    }
   ],
   "source": [
    "#menghapus kolom \"title\" dan \"text\" dari DataFrame data dan mencetak informasi ringkas tentang DataFrame data setelah penghapusan.\n",
    "data.drop([\"title\",\"text\"],axis=1,inplace=True)\n",
    "data.info()"
   ]
  },
  {
   "cell_type": "markdown",
   "id": "e5b059b1",
   "metadata": {},
   "source": [
    "Pastikan bahwa pemrosesan dan transformasi teks telah dilakukan dengan benar, serta untuk memahami ukuran data yang akan digunakan dalam analisis atau pemodelan selanjutnya dengan cara melihat dimensi dari DataFrame data, title_matrix, dan text_matrix setelah dilakukan pemrosesan dan transformasi teks menggunakan CountVectorizer."
   ]
  },
  {
   "cell_type": "code",
   "execution_count": 21,
   "id": "ad8db82c",
   "metadata": {},
   "outputs": [
    {
     "name": "stdout",
     "output_type": "stream",
     "text": [
      "(44898, 9)\n",
      "(44898, 1000)\n",
      "(44898, 4000)\n"
     ]
    }
   ],
   "source": [
    "#melihat dimensi dari DataFrame 'data', title_matrix, dan text_matrix setelah dilakukan pemrosesan dan transformasi teks menggunakan CountVectorizer. Ini memberikan informasi tentang jumlah baris dan kolom dalam DataFrame \n",
    "print(data.shape)\n",
    "print(title_matrix.shape)\n",
    "print(text_matrix.shape)"
   ]
  },
  {
   "cell_type": "markdown",
   "id": "9c94e08d",
   "metadata": {},
   "source": [
    "Langkah selanjutnya adalah membuat target variabel y berdasarkan kolom \"label\" dalam DataFrame data, dan membuat matriks fitur x dengan menggabungkan beberapa komponen seperti kolom-kolom lain dari DataFrame data, title_matrix, dan text_matrix."
   ]
  },
  {
   "cell_type": "code",
   "execution_count": 22,
   "id": "5a36aab2",
   "metadata": {},
   "outputs": [],
   "source": [
    "#membuat target variabel y berdasarkan kolom \"label\" dalam DataFrame 'data', dan membuat matriks fitur x dengan menggabungkan beberapa komponen seperti kolom-kolom lain dari DataFrame 'data',\n",
    "# Creating Y\n",
    "y = data.label\n",
    "# Creating X\n",
    "x = np.concatenate((np.array(data.drop(\"label\",axis=1)),title_matrix,text_matrix),axis=1)"
   ]
  },
  {
   "cell_type": "markdown",
   "id": "2b9a37e5",
   "metadata": {},
   "source": [
    "Setelah itu pastikan data telah disiapkan dengan benar dengan cara melihat dimensi dari matriks fitur dan target variabel."
   ]
  },
  {
   "cell_type": "code",
   "execution_count": 23,
   "id": "c0c3154a",
   "metadata": {},
   "outputs": [
    {
     "name": "stdout",
     "output_type": "stream",
     "text": [
      "(44898, 5008)\n",
      "(44898,)\n"
     ]
    }
   ],
   "source": [
    "#untuk melihat dimensi dari matriks fitur x dan target variabel y\n",
    "print(x.shape)\n",
    "print(y.shape)"
   ]
  },
  {
   "cell_type": "markdown",
   "id": "6b097359",
   "metadata": {},
   "source": [
    "### Pembagian Data\n",
    "Jika data sudah diolah, langkah selanjutnya dilakukan pembagian dataset menjadi subset training dan testing, di mana subset testing sebesar 25% dari jumlah keseluruhan dataset."
   ]
  },
  {
   "cell_type": "code",
   "execution_count": 24,
   "id": "f1130985",
   "metadata": {},
   "outputs": [
    {
     "name": "stdout",
     "output_type": "stream",
     "text": [
      "(33673, 5008)\n",
      "(11225, 5008)\n",
      "(33673,)\n",
      "(11225,)\n"
     ]
    }
   ],
   "source": [
    "#membagi dataset menjadi subset pelatihan dan pengujian menggunakan fungsi train_test_split, dan kemudian mencetak dimensi dari subset pelatihan dan pengujian matriks fitur serta target variabel\n",
    "from sklearn.model_selection import train_test_split\n",
    "\n",
    "# Train Test Split\n",
    "X_train,X_test,Y_train,Y_test = train_test_split(x,np.array(y),test_size=0.25,random_state=1)\n",
    "print(X_train.shape)\n",
    "print(X_test.shape)\n",
    "print(Y_train.shape)\n",
    "print(Y_test.shape)"
   ]
  },
  {
   "cell_type": "markdown",
   "id": "624bbda6",
   "metadata": {},
   "source": [
    "## Membangun Model ANN dengan PyTorch\n",
    "Pada bagian ini membangun model ANN dengan menggunakan PyTorch serta menggunakan ReLU sebagai fungsi aktivasi dan Adam sebagai Optimizer serta cross entropy sebagai loss"
   ]
  },
  {
   "cell_type": "code",
   "execution_count": 27,
   "id": "71981eff",
   "metadata": {},
   "outputs": [],
   "source": [
    "#mendefinisikan model ANN dengan beberapa layer dan inisialisasi optimizer serta fungsi kerugian yang akan digunakan dalam proses pelatihan model.\n",
    "class ANN(nn.Module):\n",
    "    \n",
    "    def __init__(self):\n",
    "        \n",
    "        super(ANN,self).__init__() # Inhertiting\n",
    "        \n",
    "        self.linear1 = nn.Linear(5008,2000) # IN 5008 OUT 2000\n",
    "        self.relu1 = nn.ReLU() # Actfunc 1\n",
    "        \n",
    "        self.linear2 = nn.Linear(2000,500) # IN 2000 OUT 500\n",
    "        self.relu2 = nn.ReLU()\n",
    "        \n",
    "        self.linear3 = nn.Linear(500,100) # IN 500 OUT 100\n",
    "        self.relu3 = nn.ReLU()\n",
    "        \n",
    "        self.linear4 = nn.Linear(100,20) # IN 100 OUT 20\n",
    "        self.relu4 = nn.ReLU()\n",
    "        \n",
    "        self.linear5 = nn.Linear(20,2) # IN 20 OUT 2 | OUTPUT \n",
    "        \n",
    "    \n",
    "    def forward(self,x):\n",
    "        \n",
    "        out = self.linear1(x) # Input Layer \n",
    "        out = self.relu1(out)\n",
    "        \n",
    "        out = self.linear2(out) # Hidden Layer 1 \n",
    "        out = self.relu2(out)\n",
    "        \n",
    "        out = self.linear3(out) # Hidden Layer 2 \n",
    "        out = self.relu3(out)\n",
    "        \n",
    "        out = self.linear4(out) # Hidden Layer 3 \n",
    "        out = self.relu4(out)\n",
    "\n",
    "        \n",
    "        out = self.linear5(out) # Output Layer\n",
    "        \n",
    "        return out\n",
    "    \n",
    "\n",
    "model = ANN()\n",
    "optimizer = torch.optim.Adam(model.parameters(),lr=0.01)\n",
    "error = nn.CrossEntropyLoss()"
   ]
  },
  {
   "cell_type": "markdown",
   "id": "68a7dd2a",
   "metadata": {},
   "source": [
    "## Training, Testing, dan Evaluasi\n",
    "Setelah model ANN dibuat, selanjutnya dilakukan training, testing, dan evaluasi terhadap model yang telah dibuat."
   ]
  },
  {
   "cell_type": "markdown",
   "id": "fd87fe63",
   "metadata": {},
   "source": [
    "### Training dan Testing Model\n",
    "Pelatihan model dilakukan agar model terlatih untuk menghasilkan model yang dapat belajar dari data yang diberikan dan dapat melakukan prediksi berita palsu. Proses ini diulang sebanyak jumlah epoch yang telah ditentukan, dan setiap kali dilakukan iterasi, nilai loss dicetak. Tujuan dari pelatihan adalah untuk mengoptimalkan model sehingga loss semakin kecil dan model dapat memberikan prediksi yang lebih akurat pada data yang belum pernah dilihat sebelumnya."
   ]
  },
  {
   "cell_type": "code",
   "execution_count": 28,
   "id": "4176175d",
   "metadata": {},
   "outputs": [
    {
     "name": "stdout",
     "output_type": "stream",
     "text": [
      "Loss after iteration 0 is 0.7028209567070007\n",
      "Loss after iteration 1 is 5.01705265045166\n",
      "Loss after iteration 2 is 0.9272289276123047\n",
      "Loss after iteration 3 is 0.800531804561615\n",
      "Loss after iteration 4 is 0.7735241651535034\n",
      "Loss after iteration 5 is 0.6166948080062866\n",
      "Loss after iteration 6 is 0.5827904939651489\n",
      "Loss after iteration 7 is 0.4194452166557312\n",
      "Loss after iteration 8 is 0.39133065938949585\n",
      "Loss after iteration 9 is 0.25175124406814575\n"
     ]
    }
   ],
   "source": [
    "#melatih model ANN menggunakan data pelatihan, menghitung loss, melakukan backpropagation, dan memperbarui parameter-parameter model menggunakan optimizer yang telah diinisialisasi sebelumnya. Proses ini diulang sebanyak jumlah epoch yang telah ditentukan, dan setiap kali dijalankan, nilai loss akan dicetak untuk melihat perkembangan pelatihan.\n",
    "\n",
    "#melakukan konversi array numpy menjadi tensor Pytorch\n",
    "X_train = torch.Tensor(X_train)\n",
    "\n",
    "#menentukan jumlah epoch (iterasi) pelatihan\n",
    "Y_train = torch.Tensor(Y_train).type(torch.LongTensor)\n",
    "\n",
    "X_test = torch.Tensor(X_test)\n",
    "Y_test = torch.Tensor(Y_test)\n",
    "\n",
    "EPOCHS = 10\n",
    "\n",
    "for epoch in range(EPOCHS):\n",
    "    \n",
    "    #menghapus gradien\n",
    "    optimizer.zero_grad()\n",
    "\n",
    "    #forward Propagatio\n",
    "    outs = model(X_train)\n",
    "\n",
    "    #menghitung Loss\n",
    "    loss = error(outs,Y_train)\n",
    "\n",
    "    #backward propagation\n",
    "    loss.backward()\n",
    "\n",
    "    #memperbarui parameters\n",
    "    optimizer.step()\n",
    "\n",
    "    #mencetak loss\n",
    "    print(f\"Loss after iteration {epoch} is {loss}\")\n",
    "    \n",
    "    "
   ]
  },
  {
   "cell_type": "markdown",
   "id": "82bec6c6",
   "metadata": {},
   "source": [
    "### Pengukuran Ketepatan Prediksi Model\n",
    "Melakukan prediksi menggunakan model yang telah dilatih pada data pengujian, dan kemudian mengukur seberapa baik model tersebut melakukan prediksi dengan membandingkan prediksi dengan label asli. Skor akurasi memberikan gambaran tentang sejauh mana model dapat memprediksi dengan benar kelas-kelas pada data yang belum pernah dilihat sebelumnya."
   ]
  },
  {
   "cell_type": "code",
   "execution_count": 29,
   "id": "98ddaa74",
   "metadata": {},
   "outputs": [
    {
     "name": "stdout",
     "output_type": "stream",
     "text": [
      "tensor([-0.3321, -0.7762], grad_fn=<SelectBackward0>)\n",
      "tensor(0)\n",
      "Skor Model Akurasi adalah  0.9420935412026726\n"
     ]
    }
   ],
   "source": [
    "# Import metrics\n",
    "from sklearn.metrics import accuracy_score,confusion_matrix\n",
    "\n",
    "# Prediksi\n",
    "y_head = model(X_test)\n",
    "print(y_head[0])\n",
    "# Konversi prediksi menjadi label\n",
    "y_pred = torch.max(y_head,1)[1]\n",
    "print(y_pred[0])\n",
    "\n",
    "# Menghitung skor akurasi\n",
    "print(\"Skor Model Akurasi adalah \",accuracy_score(y_pred,Y_test))"
   ]
  },
  {
   "cell_type": "markdown",
   "id": "df1a7121",
   "metadata": {},
   "source": [
    "### Confusion Matrix\n",
    "Memberikan visualisasi yang lebih intuitif dan informatif tentang hasil matriks konfusi. Heatmap dengan warna dan angka di dalam setiap selnya membantu dalam melihat pola kesalahan prediksi model, serta distribusi kelas yang diprediksi dengan benar."
   ]
  },
  {
   "cell_type": "code",
   "execution_count": 30,
   "id": "eef928ed",
   "metadata": {},
   "outputs": [
    {
     "data": {
      "image/png": "[encoded data removed]",
      "text/plain": [
       "<Figure size 600x600 with 2 Axes>"
      ]
     },
     "metadata": {},
     "output_type": "display_data"
    }
   ],
   "source": [
    "#Pada bagian ini, menggunakan matriks konfusi (confusion_matrix) yang telah dihitung sebelumnya untuk membuat visualisasi heatmap menggunakan library seaborn dan matplotlib.\n",
    "\n",
    "confusion_matrix = confusion_matrix(y_pred=y_pred,y_true=Y_test)\n",
    "fig,ax = plt.subplots(figsize=(6,6))\n",
    "sns.heatmap(confusion_matrix,annot=True,fmt=\"0.1f\",linewidths=1.5)\n",
    "plt.show()"
   ]
  },
  {
   "cell_type": "markdown",
   "id": "364fdfa3",
   "metadata": {},
   "source": [
    "### Evaluasi\n",
    "Mengukur kinerja model dalam melakukan prediksi dan mendapatkan pemahaman yang lebih baik tentang keandalan dan keakuratan prediksi yang diberikan oleh model."
   ]
  },
  {
   "cell_type": "code",
   "execution_count": 31,
   "id": "5703484d",
   "metadata": {},
   "outputs": [
    {
     "name": "stdout",
     "output_type": "stream",
     "text": [
      "Confusion Matrix:\n",
      "[[5360  529]\n",
      " [ 121 5215]]\n",
      "Laporan Klasifikasi:\n",
      "              precision    recall  f1-score   support\n",
      "\n",
      "         0.0       0.98      0.91      0.94      5889\n",
      "         1.0       0.91      0.98      0.94      5336\n",
      "\n",
      "    accuracy                           0.94     11225\n",
      "   macro avg       0.94      0.94      0.94     11225\n",
      "weighted avg       0.94      0.94      0.94     11225\n",
      "\n",
      "Akurasi: 0.9420935412026726\n"
     ]
    }
   ],
   "source": [
    "#Pada bagian ini, menggunakan beberapa metrik evaluasi dari modul sklearn.metrics untuk melakukan evaluasi hasil prediksi model\n",
    "from sklearn.metrics import classification_report, confusion_matrix, accuracy_score\n",
    "result = confusion_matrix(y_pred=y_pred,y_true=Y_test)\n",
    "print(\"Confusion Matrix:\")\n",
    "print(result)\n",
    "result1 = classification_report(y_pred=y_pred,y_true=Y_test)\n",
    "print(\"Laporan Klasifikasi:\",)\n",
    "print (result1)\n",
    "result2 = accuracy_score(y_pred=y_pred,y_true=Y_test)\n",
    "print(\"Akurasi:\",result2)"
   ]
  },
  {
   "cell_type": "code",
   "execution_count": null,
   "id": "90294f4e",
   "metadata": {},
   "outputs": [],
   "source": []
  }
 ],
 "metadata": {
  "kernelspec": {
   "display_name": "Python 3 (ipykernel)",
   "language": "python",
   "name": "python3"
  },
  "language_info": {
   "codemirror_mode": {
    "name": "ipython",
    "version": 3
   },
   "file_extension": ".py",
   "mimetype": "text/x-python",
   "name": "python",
   "nbconvert_exporter": "python",
   "pygments_lexer": "ipython3",
   "version": "3.10.9"
  }
 },
 "nbformat": 4,
 "nbformat_minor": 5
}
